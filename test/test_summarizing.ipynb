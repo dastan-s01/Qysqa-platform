{
 "cells": [
  {
   "cell_type": "code",
   "execution_count": 3,
   "id": "04d3b76b",
   "metadata": {},
   "outputs": [
    {
     "name": "stdout",
     "output_type": "stream",
     "text": [
      "Summary: Artificial Intelligence (AI) is a branch of computer science focused on creating intelligent machines. Modern AI heavily relies on machine learning, especially deep learning. AI has a wide range of applications, including self-driving cars.\n"
     ]
    }
   ],
   "source": [
    "import torch\n",
    "from transformers import BartForConditionalGeneration, BartTokenizer\n",
    "\n",
    "# Загрузка токенизатора и модели\n",
    "device = \"cuda\" if torch.cuda.is_available() else \"cpu\"\n",
    "tokenizer = BartTokenizer.from_pretrained(\"facebook/bart-large-cnn\")\n",
    "model = BartForConditionalGeneration.from_pretrained(\"facebook/bart-large-cnn\").to(device)  # Перенос модели на GPU\n",
    "\n",
    "# Пример текста для суммаризации\n",
    "text = \"\"\"\n",
    "Artificial Intelligence (AI) is a branch of computer science focused on creating intelligent machines that can perform tasks typically requiring human intelligence.\n",
    "These tasks include learning, reasoning, problem-solving, perception, and language understanding.\n",
    "Modern AI heavily relies on machine learning, especially deep learning, where artificial neural networks are used to model complex patterns in data.\n",
    "AI has a wide range of applications, including self-driving cars, virtual assistants, medical diagnostics, and financial forecasting.\n",
    "\"\"\"\n",
    "\n",
    "# Токенизация текста\n",
    "inputs = tokenizer.encode(\"summarize: \" + text, return_tensors=\"pt\", max_length=1024, truncation=True).to(device)  # Перенос входных данных на GPU\n",
    "\n",
    "# Генерация суммаризации\n",
    "summary_ids = model.generate(inputs, max_length=130, min_length=30, length_penalty=2.0, num_beams=4, early_stopping=True)\n",
    "summary = tokenizer.decode(summary_ids[0], skip_special_tokens=True)\n",
    "\n",
    "print(\"Summary:\", summary)"
   ]
  },
  {
   "cell_type": "code",
   "execution_count": null,
   "id": "d30d9265",
   "metadata": {},
   "outputs": [],
   "source": []
  },
  {
   "cell_type": "markdown",
   "id": "2b9215f7",
   "metadata": {},
   "source": [
    "TEST EVERYHING POSSIBLE"
   ]
  },
  {
   "cell_type": "code",
   "execution_count": 4,
   "id": "30507f5b",
   "metadata": {},
   "outputs": [],
   "source": [
    "# Пример текста для суммаризации\n",
    "text = \"\"\"\n",
    "A business is an organization that provides goods or services to meet customer needs, typically for profit.\n",
    "Businesses are the backbone of economies, generating employment, fostering innovation, and addressing societal needs.\n",
    "\n",
    "Core Purposes:\n",
    "Value Creation: Businesses deliver value to stakeholders, including customers, employees, and communities.\n",
    "Economic Growth: By generating jobs and fostering market competition, businesses drive progress.\n",
    "Businesses range in size and scope, from local enterprises to multinational corporations.\n",
    "Examples:\n",
    "Small-scale: A local bakery providing fresh goods to a community.\n",
    "Large-scale: Amazon, offering a wide array of products globally.\n",
    "Key Note: Businesses may be profit-driven (commercial) or mission-oriented (non-profit).\n",
    "\n",
    "Stakeholders are individuals or groups that affect or are affected by a business's actions.\n",
    "Types of Stakeholders:\n",
    "Owners/Shareholders: Expect returns on investments.\n",
    "Employees: Rely on the business for income and career growth.\n",
    "Customers: Seek high-quality products and services.\n",
    "Suppliers: Provide raw materials or services for operations.\n",
    "Community: Benefits from job creation and ethical practices.\n",
    "Balancing Interests:\n",
    "Conflicts arise when prioritizing profitability over employee welfare or environmental sustainability.\n",
    "Example: Starbucks integrates ethical sourcing to address societal concerns while meeting profit goals.\n",
    "\n",
    "Information Technology (IT) is the foundation of modern businesses, enabling efficiency, innovation, and global scalability.\n",
    "Key Contributions:\n",
    "Automation: Streamlining repetitive tasks to reduce costs and errors.\n",
    "Data Management: Collecting, storing, and analyzing data to make informed decisions.\n",
    "Enhanced Communication: Facilitating collaboration through email, chat, and video conferencing tools.\n",
    "Market Expansion: E-commerce platforms enable businesses to reach global customers.\n",
    "Examples:\n",
    "The national airlines uses IT for online ticket bookings, real-time flight tracking, and personalized customer experiences, enhancing its global competitiveness.\n",
    "Local businesses leverage IT to optimize supply chains and marketing efforts.\n",
    "\n",
    "Transforming Marketing: IT empowers businesses to reach and engage their customers through digital marketing strategies, allowing for greater precision in targeting.\n",
    "Marketing Technologies:\n",
    "SEO (Search Engine Optimization): Enhances online visibility and attracts organic traffic to websites.\n",
    "Email Marketing Platforms: Automates personalized communication with customers. Example: MailChimp, Constant Contact.\n",
    "Social Media Marketing Tools: Platforms like Instagram, Facebook, and LinkedIn enable businesses to engage with customers and share targeted ads.\n",
    "\"\"\""
   ]
  },
  {
   "cell_type": "markdown",
   "id": "b71adc26",
   "metadata": {},
   "source": [
    "1. BULLET POINTS"
   ]
  },
  {
   "cell_type": "code",
   "execution_count": 9,
   "id": "8fb77f50",
   "metadata": {},
   "outputs": [
    {
     "name": "stdout",
     "output_type": "stream",
     "text": [
      "Bullet Points:\n",
      "1. A business is an organization that provides goods or services to meet customer needs, typically for profit\n",
      "2. Businesses are the backbone of economies, generating employment, fostering innovation, and addressing societal needs\n",
      "3. Information Technology (IT) is the foundation of modern businesses, enabling efficiency, innovation and global scalability\n",
      "4. It empowers businesses to reach and engage their customers through digital marketing strategies, allowing for greater precision in targeting\n",
      "5. It also helps businesses reach global customers through e-commerce platforms and social media tools like Instagram, Facebook, and LinkedIn\n",
      "6. Back to Mail Online home\n",
      "7. Back into the page you came from\n",
      "8. Back To the pageYou came from, back to the pageyou came from,\n",
      "9. Back to thepage you came From\n",
      "10. Backto the page that you camefrom, Back To The Page You Came From.Back to the pages you cameFrom, Back to The page you Came From, BackTo the Page you Came from,Back to The Page you Coming from, Backto The Page that You Came from.\n"
     ]
    }
   ],
   "source": [
    "# Генерация краткой суммаризации в виде пунктов\n",
    "inputs = tokenizer.encode(\"summarize: \" + text, return_tensors=\"pt\", max_length=1024, truncation=True).to(device)\n",
    "summary_ids = model.generate(inputs, max_length=500, min_length=200, length_penalty=2.0, num_beams=4, early_stopping=True)\n",
    "summary = tokenizer.decode(summary_ids[0], skip_special_tokens=True)\n",
    "\n",
    "# Разделение на пункты\n",
    "bullet_points = summary.split(\". \")\n",
    "print(\"Bullet Points:\")\n",
    "for i, point in enumerate(bullet_points, 1):\n",
    "    print(f\"{i}. {point.strip()}\")"
   ]
  },
  {
   "cell_type": "markdown",
   "id": "9a0cff73",
   "metadata": {},
   "source": [
    "2. KEY TERMINS AND EXPLANATION"
   ]
  },
  {
   "cell_type": "code",
   "execution_count": 10,
   "id": "32c33b43",
   "metadata": {},
   "outputs": [
    {
     "name": "stdout",
     "output_type": "stream",
     "text": [
      "Key Terms and Explanations:\n",
      "A business is an organization that provides goods or services to meet customer needs, typically for profit. Businesses range in size and scope, from local enterprises to multinational corporations. IT is the foundation of modern businesses, enabling efficiency, innovation, and global scalability.\n"
     ]
    }
   ],
   "source": [
    "# Генерация ключевых терминов\n",
    "key_terms_prompt = \"Extract key terms and explain them: \" + text\n",
    "inputs = tokenizer.encode(key_terms_prompt, return_tensors=\"pt\", max_length=1024, truncation=True).to(device)\n",
    "summary_ids = model.generate(inputs, max_length=150, min_length=50, length_penalty=2.0, num_beams=4, early_stopping=True)\n",
    "key_terms = tokenizer.decode(summary_ids[0], skip_special_tokens=True)\n",
    "\n",
    "print(\"Key Terms and Explanations:\")\n",
    "print(key_terms)"
   ]
  },
  {
   "cell_type": "markdown",
   "id": "43765bb4",
   "metadata": {},
   "source": [
    "3. SUMMARIZE AS TABLE"
   ]
  },
  {
   "cell_type": "code",
   "execution_count": 11,
   "id": "2970f78b",
   "metadata": {},
   "outputs": [
    {
     "name": "stdout",
     "output_type": "stream",
     "text": [
      "Tabular Summary:\n",
      "Businesses are the backbone of economies, generating employment, fostering innovation, and addressing societal needs. Businesses range in size and scope, from local enterprises to multinational corporations. Information Technology (IT) is the foundation of modern businesses, enabling efficiency, innovation and global scalability.\n"
     ]
    }
   ],
   "source": [
    "# Генерация суммаризации для таблицы\n",
    "table_prompt = \"Summarize the text in a tabular format: \" + text\n",
    "inputs = tokenizer.encode(table_prompt, return_tensors=\"pt\", max_length=1024, truncation=True).to(device)\n",
    "summary_ids = model.generate(inputs, max_length=200, min_length=50, length_penalty=2.0, num_beams=4, early_stopping=True)\n",
    "table_summary = tokenizer.decode(summary_ids[0], skip_special_tokens=True)\n",
    "\n",
    "print(\"Tabular Summary:\")\n",
    "print(table_summary)"
   ]
  },
  {
   "cell_type": "markdown",
   "id": "68213d29",
   "metadata": {},
   "source": [
    "4. QUESTION & ANSWER"
   ]
  },
  {
   "cell_type": "code",
   "execution_count": 12,
   "id": "2ac8fa9f",
   "metadata": {},
   "outputs": [
    {
     "name": "stdout",
     "output_type": "stream",
     "text": [
      "Q&A Summary:\n",
      "A business is an organization that provides goods or services to meet customer needs, typically for profit. Businesses range in size and scope, from local enterprises to multinational corporations. IT is the foundation of modern businesses, enabling efficiency, innovation, and global scalability. E-commerce platforms enable businesses to reach global customers.\n"
     ]
    }
   ],
   "source": [
    "# Генерация вопросов и ответов\n",
    "qa_prompt = \"Generate questions and answers based on the text: \" + text\n",
    "inputs = tokenizer.encode(qa_prompt, return_tensors=\"pt\", max_length=1024, truncation=True).to(device)\n",
    "summary_ids = model.generate(inputs, max_length=200, min_length=50, length_penalty=2.0, num_beams=4, early_stopping=True)\n",
    "qa_summary = tokenizer.decode(summary_ids[0], skip_special_tokens=True)\n",
    "\n",
    "print(\"Q&A Summary:\")\n",
    "print(qa_summary)"
   ]
  },
  {
   "cell_type": "code",
   "execution_count": 13,
   "id": "d692126f",
   "metadata": {},
   "outputs": [
    {
     "name": "stdout",
     "output_type": "stream",
     "text": [
      "Summary with Examples:\n",
      "A business is an organization that provides goods or services to meet customer needs, typically for profit. Businesses range in size and scope, from local enterprises to multinational corporations. Information Technology (IT) is the foundation of modern businesses, enabling efficiency, innovation, and global scalability.\n"
     ]
    }
   ],
   "source": [
    "# Генерация суммаризации с примерами\n",
    "examples_prompt = \"Summarize the text and include examples: \" + text\n",
    "inputs = tokenizer.encode(examples_prompt, return_tensors=\"pt\", max_length=1024, truncation=True).to(device)\n",
    "summary_ids = model.generate(inputs, max_length=200, min_length=50, length_penalty=2.0, num_beams=4, early_stopping=True)\n",
    "examples_summary = tokenizer.decode(summary_ids[0], skip_special_tokens=True)\n",
    "\n",
    "print(\"Summary with Examples:\")\n",
    "print(examples_summary)"
   ]
  },
  {
   "cell_type": "markdown",
   "id": "c8a0c3f3",
   "metadata": {},
   "source": []
  },
  {
   "cell_type": "code",
   "execution_count": 14,
   "id": "12e72960",
   "metadata": {},
   "outputs": [
    {
     "name": "stdout",
     "output_type": "stream",
     "text": [
      "Problem-Solution Summary:\n",
      "Businesses are the backbone of economies, generating employment, fostering innovation, and addressing societal needs. Businesses range in size and scope, from local enterprises to multinational corporations. Information Technology (IT) is the foundation of modern businesses, enabling efficiency, innovation and global scalability.\n"
     ]
    }
   ],
   "source": [
    "# Генерация суммаризации с акцентом на проблемы и решения\n",
    "problem_solution_prompt = \"Summarize the text focusing on problems and solutions: \" + text\n",
    "inputs = tokenizer.encode(problem_solution_prompt, return_tensors=\"pt\", max_length=1024, truncation=True).to(device)\n",
    "summary_ids = model.generate(inputs, max_length=200, min_length=50, length_penalty=2.0, num_beams=4, early_stopping=True)\n",
    "problem_solution_summary = tokenizer.decode(summary_ids[0], skip_special_tokens=True)\n",
    "\n",
    "print(\"Problem-Solution Summary:\")\n",
    "print(problem_solution_summary)\n"
   ]
  },
  {
   "cell_type": "code",
   "execution_count": null,
   "id": "57ca4a36",
   "metadata": {},
   "outputs": [],
   "source": []
  }
 ],
 "metadata": {
  "kernelspec": {
   "display_name": "tf_gpu",
   "language": "python",
   "name": "python3"
  },
  "language_info": {
   "codemirror_mode": {
    "name": "ipython",
    "version": 3
   },
   "file_extension": ".py",
   "mimetype": "text/x-python",
   "name": "python",
   "nbconvert_exporter": "python",
   "pygments_lexer": "ipython3",
   "version": "3.9.21"
  }
 },
 "nbformat": 4,
 "nbformat_minor": 5
}
